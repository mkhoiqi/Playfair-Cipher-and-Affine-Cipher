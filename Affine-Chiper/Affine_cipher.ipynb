{
 "cells": [
  {
   "cell_type": "markdown",
   "metadata": {},
   "source": [
    "# Affine Cipher"
   ]
  },
  {
   "cell_type": "markdown",
   "metadata": {},
   "source": [
    "### Encrypt Formula = m.p + b (mod n)\n",
    "### Decrypt Forumla = m invers (c-b) (mod n)"
   ]
  },
  {
   "cell_type": "markdown",
   "metadata": {},
   "source": [
    "# -----"
   ]
  },
  {
   "cell_type": "markdown",
   "metadata": {},
   "source": [
    "## Meminta Inputan User (encrypt/decrypt)"
   ]
  },
  {
   "cell_type": "code",
   "execution_count": 60,
   "metadata": {},
   "outputs": [
    {
     "name": "stdout",
     "output_type": "stream",
     "text": [
      "False\n",
      "True\n",
      "True\n",
      "False\n",
      "False\n"
     ]
    }
   ],
   "source": [
    "def isPrimeNumber(number):\n",
    "    isPrime = True\n",
    "    if number <= 1:\n",
    "        isPrime = False\n",
    "    else:\n",
    "        for i in range (2, number):\n",
    "            if number % i == 0:\n",
    "                isPrime = False\n",
    "    \n",
    "    return isPrime\n",
    "\n",
    "print(isPrimeNumber(1))\n",
    "print(isPrimeNumber(2))\n",
    "print(isPrimeNumber(5))\n",
    "print(isPrimeNumber(8))\n",
    "print(isPrimeNumber(9))"
   ]
  },
  {
   "cell_type": "code",
   "execution_count": 50,
   "metadata": {},
   "outputs": [],
   "source": [
    "def input_valid_m():\n",
    "    isRelativePrime = False\n",
    "    \n",
    "    while isRelativePrime == False:\n",
    "        m = int(input(\"Input m : \"))\n",
    "        \n",
    "        if isPrimeNumber(m) and 255%m != 0:\n",
    "            isRelativePrime = True\n",
    "        else:\n",
    "            print(\"m must be relative prime with 255\")\n",
    "            isRelativePrime = False\n",
    "            \n",
    "    return m"
   ]
  },
  {
   "cell_type": "code",
   "execution_count": 37,
   "metadata": {},
   "outputs": [],
   "source": [
    "def readFile(file_name):\n",
    "    text = \"\"\n",
    "    with open(file_name, 'r') as file:\n",
    "        for line in file:\n",
    "            text += line\n",
    "    return text"
   ]
  },
  {
   "cell_type": "code",
   "execution_count": 38,
   "metadata": {},
   "outputs": [],
   "source": [
    "def writeFile(file_name, content, msg):\n",
    "    with open(file_name, 'w') as file:\n",
    "        file.write(content)\n",
    "    \n",
    "    print()\n",
    "    print(msg)"
   ]
  },
  {
   "cell_type": "code",
   "execution_count": 39,
   "metadata": {},
   "outputs": [],
   "source": [
    "def encrypt():\n",
    "    plain_text = readFile('plain_text.txt')\n",
    "    \n",
    "    print()\n",
    "    \n",
    "    print(\"Encrypting Formula : (m.p + b)(mod n)\")\n",
    "    print()\n",
    "    \n",
    "    m = input_valid_m()\n",
    "    b = int(input(\"Input b : \"))\n",
    "    print()\n",
    "    \n",
    "    print(\"Try to encrypting...\")\n",
    "    \n",
    "    cipher_text = \"\"\n",
    "    \n",
    "    for char in plain_text:\n",
    "        p = ord(char)\n",
    "        c = (m * p + b) % 255\n",
    "            \n",
    "        cipher_text += chr(c)\n",
    "            \n",
    "    writeFile('cipher_text.txt', cipher_text, 'Success Encrypting plain_text.txt => cipher_text.txt')"
   ]
  },
  {
   "cell_type": "code",
   "execution_count": 51,
   "metadata": {},
   "outputs": [],
   "source": [
    "def decrypt():\n",
    "    cipher_text = readFile('cipher_text.txt')\n",
    "    \n",
    "    print()\n",
    "    \n",
    "    print(\"Decrypting Formula : ((c - b)(mod n))/m\")\n",
    "    print()\n",
    "    \n",
    "    m = input_valid_m()\n",
    "    b = int(input(\"Input b : \"))\n",
    "    print()\n",
    "    \n",
    "    print(\"Try to decrypting...\")\n",
    "    \n",
    "    plain_text = \"\"\n",
    "    \n",
    "    for char in cipher_text:\n",
    "        c = ord(char)\n",
    "        p = round(((c-b)%255)/m)\n",
    "            \n",
    "        plain_text += chr(p)\n",
    "            \n",
    "    writeFile('decrypted_cipher.txt', plain_text, 'Success Decrypting cipher_text.txt => decrypted_cipher.txt')"
   ]
  },
  {
   "cell_type": "code",
   "execution_count": 52,
   "metadata": {},
   "outputs": [
    {
     "name": "stdout",
     "output_type": "stream",
     "text": [
      "Decrypt/Encrypt ? (d/e)e\n"
     ]
    }
   ],
   "source": [
    "option = input(\"Decrypt/Encrypt ? (d/e)\")"
   ]
  },
  {
   "cell_type": "code",
   "execution_count": 53,
   "metadata": {},
   "outputs": [
    {
     "name": "stdout",
     "output_type": "stream",
     "text": [
      "\n",
      "Encrypting Formula : (m.p + b)(mod n)\n",
      "\n",
      "Input m : 12\n",
      "m must be relative prime with 255\n",
      "Input m : 15\n",
      "m must be relative prime with 255\n",
      "Input m : 3\n",
      "m must be relative prime with 255\n",
      "Input m : 2\n",
      "Input b : 5\n",
      "\n",
      "Try to encrypting...\n",
      "\n",
      "Success Encrypting plain_text.txt => cipher_text.txt\n"
     ]
    }
   ],
   "source": [
    "if option.lower() == 'd':\n",
    "    decrypt()\n",
    "elif option.lower() == 'e':\n",
    "    encrypt()"
   ]
  },
  {
   "cell_type": "code",
   "execution_count": null,
   "metadata": {},
   "outputs": [],
   "source": []
  }
 ],
 "metadata": {
  "kernelspec": {
   "display_name": "Python 3",
   "language": "python",
   "name": "python3"
  },
  "language_info": {
   "codemirror_mode": {
    "name": "ipython",
    "version": 3
   },
   "file_extension": ".py",
   "mimetype": "text/x-python",
   "name": "python",
   "nbconvert_exporter": "python",
   "pygments_lexer": "ipython3",
   "version": "3.7.3"
  }
 },
 "nbformat": 4,
 "nbformat_minor": 2
}
