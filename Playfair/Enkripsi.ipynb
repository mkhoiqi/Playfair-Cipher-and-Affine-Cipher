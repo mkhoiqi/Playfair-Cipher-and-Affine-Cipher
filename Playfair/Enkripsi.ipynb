{
 "cells": [
  {
   "cell_type": "code",
   "execution_count": 228,
   "metadata": {},
   "outputs": [],
   "source": [
    "alphabet = ['A', 'B', 'C', 'D', 'E', 'F', 'G','H', 'I', 'J', 'K', 'L', 'M','N', 'O', 'P', 'Q', 'R', 'S', 'T', 'U', 'V', 'W', 'X', 'Y', 'Z']"
   ]
  },
  {
   "cell_type": "code",
   "execution_count": 230,
   "metadata": {},
   "outputs": [
    {
     "name": "stdout",
     "output_type": "stream",
     "text": [
      "Masukan Kata Pembangkit: JALAN GANESHA SEPULUH\n"
     ]
    }
   ],
   "source": [
    "kata_pembangkit = input(\"Masukan Kata Pembangkit: \")"
   ]
  },
  {
   "cell_type": "code",
   "execution_count": 231,
   "metadata": {},
   "outputs": [
    {
     "name": "stdout",
     "output_type": "stream",
     "text": [
      "JALANGANESHASEPULUH\n"
     ]
    }
   ],
   "source": [
    "kata_pembangkit = kata_pembangkit.upper().replace(\" \", \"\")\n",
    "print(kata_pembangkit)"
   ]
  },
  {
   "cell_type": "code",
   "execution_count": 232,
   "metadata": {},
   "outputs": [
    {
     "name": "stdout",
     "output_type": "stream",
     "text": [
      "ALANGANESHASEPULUH\n"
     ]
    }
   ],
   "source": [
    "clean_kata_pembangkit = \"\"\n",
    "\n",
    "for char in kata_pembangkit:\n",
    "    if char in alphabet:\n",
    "        if char == \"J\":\n",
    "            continue\n",
    "        else:\n",
    "            clean_kata_pembangkit += char\n",
    "\n",
    "print(clean_kata_pembangkit)"
   ]
  },
  {
   "cell_type": "code",
   "execution_count": 233,
   "metadata": {},
   "outputs": [
    {
     "name": "stdout",
     "output_type": "stream",
     "text": [
      "ALNGESHPUBCDFIKMOQRTVWXYZ\n",
      "25\n"
     ]
    }
   ],
   "source": [
    "key = \"\"\n",
    "\n",
    "for char in clean_kata_pembangkit:\n",
    "    if char not in key:\n",
    "        key += char\n",
    "        \n",
    "for char in alphabet:\n",
    "    if char not in key:\n",
    "        if char == \"J\":\n",
    "            continue\n",
    "        else:\n",
    "            key += char\n",
    "            \n",
    "print(key)\n",
    "print(len(key))"
   ]
  },
  {
   "cell_type": "code",
   "execution_count": 236,
   "metadata": {},
   "outputs": [
    {
     "name": "stdout",
     "output_type": "stream",
     "text": [
      "ALNGE\n",
      "SHPUB\n",
      "CDFIK\n",
      "MOQRT\n",
      "VWXYZ\n"
     ]
    }
   ],
   "source": [
    "\n",
    "key_table = [[0 for x in range(5)] for y in range(5)]\n",
    "\n",
    "for i in range(5):\n",
    "    for j in range(5):\n",
    "        key_table[i][j] = key[i+j+(i*4)]\n",
    "\n",
    "for i in range(5):\n",
    "    for j in range(5):\n",
    "        print(key_table[i][j], end=\"\")\n",
    "    print()"
   ]
  },
  {
   "cell_type": "code",
   "execution_count": 237,
   "metadata": {},
   "outputs": [
    {
     "name": "stdout",
     "output_type": "stream",
     "text": [
      "temui ibu nanti malam\n"
     ]
    }
   ],
   "source": [
    "plain_text = \"\"\n",
    "with open('plaintext_enkripsi.txt', 'r') as file:\n",
    "    for sentence in file:\n",
    "        plain_text += sentence\n",
    "        \n",
    "print(plain_text)"
   ]
  },
  {
   "cell_type": "code",
   "execution_count": 238,
   "metadata": {},
   "outputs": [
    {
     "name": "stdout",
     "output_type": "stream",
     "text": [
      "TEMUIIBUNANTIMALAM\n"
     ]
    }
   ],
   "source": [
    "plain_text = plain_text.upper().replace(\" \", \"\").replace(\"\\n\", \"\")\n",
    "print(plain_text)"
   ]
  },
  {
   "cell_type": "code",
   "execution_count": 246,
   "metadata": {},
   "outputs": [
    {
     "name": "stdout",
     "output_type": "stream",
     "text": [
      "TEMUIIBUNANTIMALAM\n"
     ]
    }
   ],
   "source": [
    "clean_plain_text = \"\"\n",
    "\n",
    "for char in plain_text:\n",
    "    if char in alphabet:\n",
    "        if char == \"J\":\n",
    "            clean_plain_text += \"I\"\n",
    "        else:\n",
    "            clean_plain_text += char\n",
    "\n",
    "print(clean_plain_text)"
   ]
  },
  {
   "cell_type": "code",
   "execution_count": 247,
   "metadata": {},
   "outputs": [
    {
     "name": "stdout",
     "output_type": "stream",
     "text": [
      "TEMUIXIBUNANTIMALAMX\n"
     ]
    }
   ],
   "source": [
    "new_clean_plain_text = \"\"\n",
    "cek = 0\n",
    "i = 0\n",
    "while i < len(clean_plain_text):\n",
    "    if i == len(clean_plain_text)-1:\n",
    "        new_clean_plain_text += clean_plain_text[i]\n",
    "    else:\n",
    "        if i%2 == 0:\n",
    "            if clean_plain_text[i] == clean_plain_text[i+1]:\n",
    "                new_clean_plain_text += clean_plain_text[i]+\"X\"\n",
    "                cek = 1\n",
    "            else:\n",
    "                new_clean_plain_text += clean_plain_text[i]+clean_plain_text[i+1]\n",
    "                if i+1 == len(clean_plain_text)-1:\n",
    "                    i += 1\n",
    "        else:\n",
    "            if cek == 1:\n",
    "                cek = 0\n",
    "                if clean_plain_text[i] == clean_plain_text[i+1]:\n",
    "                    new_clean_plain_text += clean_plain_text[i]+\"X\"\n",
    "                else:\n",
    "                    new_clean_plain_text += clean_plain_text[i]+clean_plain_text[i+1]\n",
    "                    i += 1\n",
    "                    cek = 1\n",
    "    i += 1\n",
    "if len(new_clean_plain_text)%2 == 1:\n",
    "    new_clean_plain_text += \"X\"\n",
    "print(new_clean_plain_text)"
   ]
  },
  {
   "cell_type": "code",
   "execution_count": 252,
   "metadata": {},
   "outputs": [
    {
     "name": "stdout",
     "output_type": "stream",
     "text": [
      "TE MU IX IB UN AN TI MA LA MX "
     ]
    }
   ],
   "source": [
    "x = int(len(new_clean_plain_text)/2)\n",
    "\n",
    "arr_bigram_plain_text = [[0 for i in range(2)] for j in range(x)]\n",
    "for i in range(x):\n",
    "    for j in range(2):\n",
    "        arr_bigram_plain_text[i][j] = new_clean_plain_text[j+(2*i)]\n",
    "        \n",
    "for i in range(x):\n",
    "    for j in range(2):\n",
    "        print(arr_bigram_plain_text[i][j], end=\"\")\n",
    "    print(\" \", end=\"\")"
   ]
  },
  {
   "cell_type": "code",
   "execution_count": 254,
   "metadata": {},
   "outputs": [
    {
     "name": "stdout",
     "output_type": "stream",
     "text": [
      "Ciphertext: ZB RS FY KU PG LG RK VS NL QV "
     ]
    }
   ],
   "source": [
    "cipher_text = \"\"\n",
    "for i in range(x):\n",
    "    value_char1 = arr_bigram_plain_text[i][0]\n",
    "    value_char2 = arr_bigram_plain_text[i][1]\n",
    "    arr_char1 = [0 for i in range(2)]\n",
    "    arr_char2 = [0 for i in range(2)]\n",
    "    for j in range(5):\n",
    "        for k in range(5):\n",
    "            if key_table[j][k] == value_char1:\n",
    "                arr_char1[0] = j\n",
    "                arr_char1[1] = k\n",
    "            elif key_table[j][k] == value_char2:\n",
    "                arr_char2[0] = j\n",
    "                arr_char2[1] = k\n",
    "            else:\n",
    "                continue\n",
    "    if arr_char1[0] == arr_char2[0]: #Sama row\n",
    "        cipher_text += key_table[arr_char1[0]][(arr_char1[1]+1)%5]+key_table[arr_char2[0]][(arr_char2[1]+1)%5]\n",
    "    elif arr_char1[1] == arr_char2[1]: #Sama col\n",
    "        cipher_text += key_table[(arr_char1[0]+1)%5][arr_char1[1]]+key_table[(arr_char2[0]+1)%5][arr_char2[1]]\n",
    "    else:\n",
    "        cipher_text += key_table[arr_char1[0]][arr_char2[1]]+key_table[arr_char2[0]][arr_char1[1]]\n",
    "\n",
    "print(\"Ciphertext: \", end=\"\")\n",
    "for i in range(len(cipher_text)):\n",
    "    if i%2==0:\n",
    "        print(cipher_text[i], end=\"\")\n",
    "    else:\n",
    "        print(cipher_text[i], end=\" \")"
   ]
  },
  {
   "cell_type": "code",
   "execution_count": 255,
   "metadata": {},
   "outputs": [],
   "source": [
    "with open('ciphertext_enkripsi.txt', 'w') as file:\n",
    "    file.write(cipher_text)"
   ]
  }
 ],
 "metadata": {
  "kernelspec": {
   "display_name": "Python 3",
   "language": "python",
   "name": "python3"
  },
  "language_info": {
   "codemirror_mode": {
    "name": "ipython",
    "version": 3
   },
   "file_extension": ".py",
   "mimetype": "text/x-python",
   "name": "python",
   "nbconvert_exporter": "python",
   "pygments_lexer": "ipython3",
   "version": "3.8.5"
  }
 },
 "nbformat": 4,
 "nbformat_minor": 4
}
