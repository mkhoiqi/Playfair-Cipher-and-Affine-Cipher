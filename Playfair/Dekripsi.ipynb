{
 "cells": [
  {
   "cell_type": "code",
   "execution_count": 16,
   "metadata": {},
   "outputs": [],
   "source": [
    "alphabet = ['A', 'B', 'C', 'D', 'E', 'F', 'G','H', 'I', 'J', 'K', 'L', 'M','N', 'O', 'P', 'Q', 'R', 'S', 'T', 'U', 'V', 'W', 'X', 'Y', 'Z']"
   ]
  },
  {
   "cell_type": "code",
   "execution_count": 17,
   "metadata": {},
   "outputs": [
    {
     "name": "stdout",
     "output_type": "stream",
     "text": [
      "Masukan Kata Pembangkit: JALAN GANESHA SEPULUH\n"
     ]
    }
   ],
   "source": [
    "kata_pembangkit = input(\"Masukan Kata Pembangkit: \")"
   ]
  },
  {
   "cell_type": "code",
   "execution_count": 18,
   "metadata": {},
   "outputs": [
    {
     "name": "stdout",
     "output_type": "stream",
     "text": [
      "JALANGANESHASEPULUH\n"
     ]
    }
   ],
   "source": [
    "kata_pembangkit = kata_pembangkit.upper().replace(\" \", \"\")\n",
    "print(kata_pembangkit)"
   ]
  },
  {
   "cell_type": "code",
   "execution_count": 19,
   "metadata": {},
   "outputs": [
    {
     "name": "stdout",
     "output_type": "stream",
     "text": [
      "ALANGANESHASEPULUH\n"
     ]
    }
   ],
   "source": [
    "clean_kata_pembangkit = \"\"\n",
    "\n",
    "for char in kata_pembangkit:\n",
    "    if char in alphabet:\n",
    "        if char == \"J\":\n",
    "            continue\n",
    "        else:\n",
    "            clean_kata_pembangkit += char\n",
    "\n",
    "print(clean_kata_pembangkit)"
   ]
  },
  {
   "cell_type": "code",
   "execution_count": 20,
   "metadata": {},
   "outputs": [
    {
     "name": "stdout",
     "output_type": "stream",
     "text": [
      "ALNGESHPUBCDFIKMOQRTVWXYZ\n",
      "25\n"
     ]
    }
   ],
   "source": [
    "key = \"\"\n",
    "\n",
    "for char in clean_kata_pembangkit:\n",
    "    if char not in key:\n",
    "        key += char\n",
    "        \n",
    "for char in alphabet:\n",
    "    if char not in key:\n",
    "        if char == \"J\":\n",
    "            continue\n",
    "        else:\n",
    "            key += char\n",
    "            \n",
    "print(key)\n",
    "print(len(key))"
   ]
  },
  {
   "cell_type": "code",
   "execution_count": 21,
   "metadata": {},
   "outputs": [
    {
     "name": "stdout",
     "output_type": "stream",
     "text": [
      "ALNGE\n",
      "SHPUB\n",
      "CDFIK\n",
      "MOQRT\n",
      "VWXYZ\n"
     ]
    }
   ],
   "source": [
    "key_table = [[0 for x in range(5)] for y in range(5)]\n",
    "\n",
    "for i in range(5):\n",
    "    for j in range(5):\n",
    "        key_table[i][j] = key[i+j+(i*4)]\n",
    "\n",
    "for i in range(5):\n",
    "    for j in range(5):\n",
    "        print(key_table[i][j], end=\"\")\n",
    "    print()"
   ]
  },
  {
   "cell_type": "code",
   "execution_count": 22,
   "metadata": {},
   "outputs": [
    {
     "name": "stdout",
     "output_type": "stream",
     "text": [
      "ZBRSFYKUPGLGRKVSNLQV\n"
     ]
    }
   ],
   "source": [
    "cipher_text = \"\"\n",
    "with open('ciphertext_dekripsi.txt', 'r') as file:\n",
    "    for sentence in file:\n",
    "        cipher_text += sentence\n",
    "        \n",
    "print(cipher_text)"
   ]
  },
  {
   "cell_type": "code",
   "execution_count": 23,
   "metadata": {},
   "outputs": [
    {
     "name": "stdout",
     "output_type": "stream",
     "text": [
      "ZB RS FY KU PG LG RK VS NL QV "
     ]
    }
   ],
   "source": [
    "x = int(len(cipher_text)/2)\n",
    "\n",
    "arr_bigram_cipher_text = [[0 for i in range(2)] for j in range(x)]\n",
    "for i in range(x):\n",
    "    for j in range(2):\n",
    "        arr_bigram_cipher_text[i][j] = cipher_text[j+(2*i)]\n",
    "        \n",
    "for i in range(x):\n",
    "    for j in range(2):\n",
    "        print(arr_bigram_cipher_text[i][j], end=\"\")\n",
    "    print(\" \", end=\"\")"
   ]
  },
  {
   "cell_type": "code",
   "execution_count": 24,
   "metadata": {},
   "outputs": [
    {
     "name": "stdout",
     "output_type": "stream",
     "text": [
      "Plaintext: TE MU IX IB UN AN TI MA LA MX "
     ]
    }
   ],
   "source": [
    "plain_text = \"\"\n",
    "for i in range(x):\n",
    "    value_char1 = arr_bigram_cipher_text[i][0]\n",
    "    value_char2 = arr_bigram_cipher_text[i][1]\n",
    "    arr_char1 = [0 for i in range(2)]\n",
    "    arr_char2 = [0 for i in range(2)]\n",
    "    for j in range(5):\n",
    "        for k in range(5):\n",
    "            if key_table[j][k] == value_char1:\n",
    "                arr_char1[0] = j\n",
    "                arr_char1[1] = k\n",
    "            elif key_table[j][k] == value_char2:\n",
    "                arr_char2[0] = j\n",
    "                arr_char2[1] = k\n",
    "            else:\n",
    "                continue\n",
    "\n",
    "    if arr_char1[0] == arr_char2[0]: #Sama row:\n",
    "        plain_text += key_table[arr_char1[0]][(arr_char1[1]+4)%5]+key_table[arr_char2[0]][(arr_char2[1]+4)%5]\n",
    "    elif arr_char1[1] == arr_char2[1]: #Sama col\n",
    "        plain_text += key_table[(arr_char1[0]+4)%5][arr_char1[1]]+key_table[(arr_char2[0]+4)%5][arr_char2[1]]\n",
    "    else:\n",
    "        plain_text += key_table[arr_char1[0]][arr_char2[1]]+key_table[arr_char2[0]][arr_char1[1]]\n",
    "        \n",
    "print(\"Plaintext: \", end=\"\")\n",
    "for i in range(len(plain_text)):\n",
    "    if i%2==0:\n",
    "        print(plain_text[i], end=\"\")\n",
    "    else:\n",
    "        print(plain_text[i], end=\" \")"
   ]
  },
  {
   "cell_type": "code",
   "execution_count": 25,
   "metadata": {},
   "outputs": [],
   "source": [
    "with open('plaintext_dekripsi.txt', 'w') as file:\n",
    "    file.write(plain_text)"
   ]
  }
 ],
 "metadata": {
  "kernelspec": {
   "display_name": "Python 3",
   "language": "python",
   "name": "python3"
  },
  "language_info": {
   "codemirror_mode": {
    "name": "ipython",
    "version": 3
   },
   "file_extension": ".py",
   "mimetype": "text/x-python",
   "name": "python",
   "nbconvert_exporter": "python",
   "pygments_lexer": "ipython3",
   "version": "3.8.5"
  }
 },
 "nbformat": 4,
 "nbformat_minor": 4
}
